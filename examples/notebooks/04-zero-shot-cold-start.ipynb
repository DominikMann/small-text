{
 "cells": [
  {
   "cell_type": "markdown",
   "id": "bea8b7ed",
   "metadata": {},
   "source": [
    "# Use SetFit for Active Learning with Small-Text\n",
    "\n",
    "*Notebook 4*  \n",
    "In this tutorial we demonstrate how to use cold start initialization with [SetFit](https://github.com/huggingface/setfit), i.e. we start active learning directly without having to provide an initial set of labels.\n",
    "\n",
    "----\n",
    "\n",
    "## Overview\n",
    "\n",
    "- [Part I: Introduction and Installation](#nb4-part1-introduction)\n",
    "- [Part II: Loading, Investigating, and Preparing the AG's News Dataset](#nb4-part2-data)\n",
    "- [Part III: Active Learning](#nb4-part3-active-learning)\n",
    "- [Part IV: Plotting the results](#nb4-part4-evaluation)\n",
    "\n",
    "----\n",
    "\n",
    "<a id=\"nb4-part1-introduction\"></a>\n",
    "## I. Introduction\n",
    "\n",
    "By *SetFit* we refer to the method by Tunstall et al. from the paper [Efficient Few-Shot Learning Without Prompts](https://arxiv.org/pdf/2209.11055.pdf). SetFit is an efficient approach that is based on constrative fine-tuning on sentence-transformer embeddings. In small-text, the [Hugging Face SetFit implementation](https://github.com/huggingface/setfit) is wrapped so that you can you use with all existing small-text components.\n",
    "\n",
    "### Installation and Preparation\n",
    "\n",
    "The small-text wrapper for SetFit is a part of the transformers integration, so the installation procedure is the same as for every other example that shows small-text with transformers. "
   ]
  },
  {
   "cell_type": "code",
   "execution_count": 1,
   "id": "837556c3",
   "metadata": {
    "scrolled": true
   },
   "outputs": [
    {
     "name": "stdout",
     "output_type": "stream",
     "text": [
      "Collecting small-text[transformers]\n",
      "  Cloning https://github.com/webis-de/small-text.git (to revision dev) to /tmp/pip-install-lfcnnyzo/small-text_96f7fa29a1d04071a0d534416ef4bcd6\n",
      "  Running command git clone --filter=blob:none --quiet https://github.com/webis-de/small-text.git /tmp/pip-install-lfcnnyzo/small-text_96f7fa29a1d04071a0d534416ef4bcd6\n",
      "  Running command git checkout -b dev --track origin/dev\n",
      "  Switched to a new branch 'dev'\n",
      "  Branch 'dev' set up to track remote branch 'dev' from 'origin'.\n",
      "  Resolved https://github.com/webis-de/small-text.git to commit 5edee70c64dbb2ecf103dc8775f62b1339fa8c9e\n",
      "  Installing build dependencies ... \u001b[?25ldone\n",
      "\u001b[?25h  Getting requirements to build wheel ... \u001b[?25ldone\n",
      "\u001b[?25h  Preparing metadata (pyproject.toml) ... \u001b[?25ldone\n",
      "\u001b[?25hRequirement already satisfied: numpy>=1.20.0 in /home/cschroeder/.local/share/virtualenvs/notebooks-R6UeU-dP/lib/python3.8/site-packages (from small-text[transformers]) (1.24.1)\n",
      "Requirement already satisfied: dill in /home/cschroeder/.local/share/virtualenvs/notebooks-R6UeU-dP/lib/python3.8/site-packages (from small-text[transformers]) (0.3.6)\n",
      "Requirement already satisfied: scikit-learn>=0.24.1 in /home/cschroeder/.local/share/virtualenvs/notebooks-R6UeU-dP/lib/python3.8/site-packages (from small-text[transformers]) (1.2.1)\n",
      "Requirement already satisfied: scipy in /home/cschroeder/.local/share/virtualenvs/notebooks-R6UeU-dP/lib/python3.8/site-packages (from small-text[transformers]) (1.10.0)\n",
      "Requirement already satisfied: tqdm in /home/cschroeder/.local/share/virtualenvs/notebooks-R6UeU-dP/lib/python3.8/site-packages (from small-text[transformers]) (4.64.1)\n",
      "Requirement already satisfied: packaging in /home/cschroeder/.local/share/virtualenvs/notebooks-R6UeU-dP/lib/python3.8/site-packages (from small-text[transformers]) (23.0)\n",
      "Requirement already satisfied: torchtext>=0.7.0 in /home/cschroeder/.local/share/virtualenvs/notebooks-R6UeU-dP/lib/python3.8/site-packages (from small-text[transformers]) (0.14.1)\n",
      "Requirement already satisfied: transformers>=4.0.0 in /home/cschroeder/.local/share/virtualenvs/notebooks-R6UeU-dP/lib/python3.8/site-packages (from small-text[transformers]) (4.26.0)\n",
      "Requirement already satisfied: torch>=1.6.0 in /home/cschroeder/.local/share/virtualenvs/notebooks-R6UeU-dP/lib/python3.8/site-packages (from small-text[transformers]) (1.13.1)\n",
      "Requirement already satisfied: joblib>=1.1.1 in /home/cschroeder/.local/share/virtualenvs/notebooks-R6UeU-dP/lib/python3.8/site-packages (from scikit-learn>=0.24.1->small-text[transformers]) (1.2.0)\n",
      "Requirement already satisfied: threadpoolctl>=2.0.0 in /home/cschroeder/.local/share/virtualenvs/notebooks-R6UeU-dP/lib/python3.8/site-packages (from scikit-learn>=0.24.1->small-text[transformers]) (3.1.0)\n",
      "Requirement already satisfied: nvidia-cudnn-cu11==8.5.0.96 in /home/cschroeder/.local/share/virtualenvs/notebooks-R6UeU-dP/lib/python3.8/site-packages (from torch>=1.6.0->small-text[transformers]) (8.5.0.96)\n",
      "Requirement already satisfied: nvidia-cuda-nvrtc-cu11==11.7.99 in /home/cschroeder/.local/share/virtualenvs/notebooks-R6UeU-dP/lib/python3.8/site-packages (from torch>=1.6.0->small-text[transformers]) (11.7.99)\n",
      "Requirement already satisfied: nvidia-cublas-cu11==11.10.3.66 in /home/cschroeder/.local/share/virtualenvs/notebooks-R6UeU-dP/lib/python3.8/site-packages (from torch>=1.6.0->small-text[transformers]) (11.10.3.66)\n",
      "Requirement already satisfied: nvidia-cuda-runtime-cu11==11.7.99 in /home/cschroeder/.local/share/virtualenvs/notebooks-R6UeU-dP/lib/python3.8/site-packages (from torch>=1.6.0->small-text[transformers]) (11.7.99)\n",
      "Requirement already satisfied: typing-extensions in /home/cschroeder/.local/share/virtualenvs/notebooks-R6UeU-dP/lib/python3.8/site-packages (from torch>=1.6.0->small-text[transformers]) (4.4.0)\n",
      "Requirement already satisfied: wheel in /home/cschroeder/.local/share/virtualenvs/notebooks-R6UeU-dP/lib/python3.8/site-packages (from nvidia-cublas-cu11==11.10.3.66->torch>=1.6.0->small-text[transformers]) (0.38.4)\n",
      "Requirement already satisfied: setuptools in /home/cschroeder/.local/share/virtualenvs/notebooks-R6UeU-dP/lib/python3.8/site-packages (from nvidia-cublas-cu11==11.10.3.66->torch>=1.6.0->small-text[transformers]) (66.1.1)\n",
      "Requirement already satisfied: requests in /home/cschroeder/.local/share/virtualenvs/notebooks-R6UeU-dP/lib/python3.8/site-packages (from torchtext>=0.7.0->small-text[transformers]) (2.28.2)\n",
      "Requirement already satisfied: filelock in /home/cschroeder/.local/share/virtualenvs/notebooks-R6UeU-dP/lib/python3.8/site-packages (from transformers>=4.0.0->small-text[transformers]) (3.9.0)\n",
      "Requirement already satisfied: pyyaml>=5.1 in /home/cschroeder/.local/share/virtualenvs/notebooks-R6UeU-dP/lib/python3.8/site-packages (from transformers>=4.0.0->small-text[transformers]) (6.0)\n",
      "Requirement already satisfied: tokenizers!=0.11.3,<0.14,>=0.11.1 in /home/cschroeder/.local/share/virtualenvs/notebooks-R6UeU-dP/lib/python3.8/site-packages (from transformers>=4.0.0->small-text[transformers]) (0.13.2)\n",
      "Requirement already satisfied: huggingface-hub<1.0,>=0.11.0 in /home/cschroeder/.local/share/virtualenvs/notebooks-R6UeU-dP/lib/python3.8/site-packages (from transformers>=4.0.0->small-text[transformers]) (0.12.0)\n",
      "Requirement already satisfied: regex!=2019.12.17 in /home/cschroeder/.local/share/virtualenvs/notebooks-R6UeU-dP/lib/python3.8/site-packages (from transformers>=4.0.0->small-text[transformers]) (2022.10.31)\n",
      "Requirement already satisfied: idna<4,>=2.5 in /home/cschroeder/.local/share/virtualenvs/notebooks-R6UeU-dP/lib/python3.8/site-packages (from requests->torchtext>=0.7.0->small-text[transformers]) (3.4)\n",
      "Requirement already satisfied: certifi>=2017.4.17 in /home/cschroeder/.local/share/virtualenvs/notebooks-R6UeU-dP/lib/python3.8/site-packages (from requests->torchtext>=0.7.0->small-text[transformers]) (2022.12.7)\n",
      "Requirement already satisfied: urllib3<1.27,>=1.21.1 in /home/cschroeder/.local/share/virtualenvs/notebooks-R6UeU-dP/lib/python3.8/site-packages (from requests->torchtext>=0.7.0->small-text[transformers]) (1.26.14)\n",
      "Requirement already satisfied: charset-normalizer<4,>=2 in /home/cschroeder/.local/share/virtualenvs/notebooks-R6UeU-dP/lib/python3.8/site-packages (from requests->torchtext>=0.7.0->small-text[transformers]) (2.1.1)\n",
      "Note: you may need to restart the kernel to use updated packages.\n",
      "Note: you may need to restart the kernel to use updated packages.\n",
      "Requirement already satisfied: datasets in /home/cschroeder/.local/share/virtualenvs/notebooks-R6UeU-dP/lib/python3.8/site-packages (2.7.1)\n",
      "Requirement already satisfied: pyyaml>=5.1 in /home/cschroeder/.local/share/virtualenvs/notebooks-R6UeU-dP/lib/python3.8/site-packages (from datasets) (6.0)\n",
      "Requirement already satisfied: numpy>=1.17 in /home/cschroeder/.local/share/virtualenvs/notebooks-R6UeU-dP/lib/python3.8/site-packages (from datasets) (1.24.1)\n",
      "Requirement already satisfied: fsspec[http]>=2021.11.1 in /home/cschroeder/.local/share/virtualenvs/notebooks-R6UeU-dP/lib/python3.8/site-packages (from datasets) (2022.11.0)\n",
      "Requirement already satisfied: requests>=2.19.0 in /home/cschroeder/.local/share/virtualenvs/notebooks-R6UeU-dP/lib/python3.8/site-packages (from datasets) (2.28.2)\n",
      "Requirement already satisfied: responses<0.19 in /home/cschroeder/.local/share/virtualenvs/notebooks-R6UeU-dP/lib/python3.8/site-packages (from datasets) (0.18.0)\n",
      "Requirement already satisfied: xxhash in /home/cschroeder/.local/share/virtualenvs/notebooks-R6UeU-dP/lib/python3.8/site-packages (from datasets) (3.1.0)\n",
      "Requirement already satisfied: dill<0.3.7 in /home/cschroeder/.local/share/virtualenvs/notebooks-R6UeU-dP/lib/python3.8/site-packages (from datasets) (0.3.6)\n",
      "Requirement already satisfied: aiohttp in /home/cschroeder/.local/share/virtualenvs/notebooks-R6UeU-dP/lib/python3.8/site-packages (from datasets) (3.8.3)\n",
      "Requirement already satisfied: multiprocess in /home/cschroeder/.local/share/virtualenvs/notebooks-R6UeU-dP/lib/python3.8/site-packages (from datasets) (0.70.14)\n",
      "Requirement already satisfied: huggingface-hub<1.0.0,>=0.2.0 in /home/cschroeder/.local/share/virtualenvs/notebooks-R6UeU-dP/lib/python3.8/site-packages (from datasets) (0.12.0)\n",
      "Requirement already satisfied: pyarrow>=6.0.0 in /home/cschroeder/.local/share/virtualenvs/notebooks-R6UeU-dP/lib/python3.8/site-packages (from datasets) (10.0.1)\n",
      "Requirement already satisfied: pandas in /home/cschroeder/.local/share/virtualenvs/notebooks-R6UeU-dP/lib/python3.8/site-packages (from datasets) (1.5.2)\n",
      "Requirement already satisfied: packaging in /home/cschroeder/.local/share/virtualenvs/notebooks-R6UeU-dP/lib/python3.8/site-packages (from datasets) (23.0)\n",
      "Requirement already satisfied: tqdm>=4.62.1 in /home/cschroeder/.local/share/virtualenvs/notebooks-R6UeU-dP/lib/python3.8/site-packages (from datasets) (4.64.1)\n",
      "Requirement already satisfied: yarl<2.0,>=1.0 in /home/cschroeder/.local/share/virtualenvs/notebooks-R6UeU-dP/lib/python3.8/site-packages (from aiohttp->datasets) (1.8.2)\n",
      "Requirement already satisfied: frozenlist>=1.1.1 in /home/cschroeder/.local/share/virtualenvs/notebooks-R6UeU-dP/lib/python3.8/site-packages (from aiohttp->datasets) (1.3.3)\n",
      "Requirement already satisfied: charset-normalizer<3.0,>=2.0 in /home/cschroeder/.local/share/virtualenvs/notebooks-R6UeU-dP/lib/python3.8/site-packages (from aiohttp->datasets) (2.1.1)\n",
      "Requirement already satisfied: multidict<7.0,>=4.5 in /home/cschroeder/.local/share/virtualenvs/notebooks-R6UeU-dP/lib/python3.8/site-packages (from aiohttp->datasets) (6.0.3)\n",
      "Requirement already satisfied: aiosignal>=1.1.2 in /home/cschroeder/.local/share/virtualenvs/notebooks-R6UeU-dP/lib/python3.8/site-packages (from aiohttp->datasets) (1.3.1)\n",
      "Requirement already satisfied: attrs>=17.3.0 in /home/cschroeder/.local/share/virtualenvs/notebooks-R6UeU-dP/lib/python3.8/site-packages (from aiohttp->datasets) (22.1.0)\n",
      "Requirement already satisfied: async-timeout<5.0,>=4.0.0a3 in /home/cschroeder/.local/share/virtualenvs/notebooks-R6UeU-dP/lib/python3.8/site-packages (from aiohttp->datasets) (4.0.2)\n",
      "Requirement already satisfied: typing-extensions>=3.7.4.3 in /home/cschroeder/.local/share/virtualenvs/notebooks-R6UeU-dP/lib/python3.8/site-packages (from huggingface-hub<1.0.0,>=0.2.0->datasets) (4.4.0)\n",
      "Requirement already satisfied: filelock in /home/cschroeder/.local/share/virtualenvs/notebooks-R6UeU-dP/lib/python3.8/site-packages (from huggingface-hub<1.0.0,>=0.2.0->datasets) (3.9.0)\n",
      "Requirement already satisfied: urllib3<1.27,>=1.21.1 in /home/cschroeder/.local/share/virtualenvs/notebooks-R6UeU-dP/lib/python3.8/site-packages (from requests>=2.19.0->datasets) (1.26.14)\n",
      "Requirement already satisfied: idna<4,>=2.5 in /home/cschroeder/.local/share/virtualenvs/notebooks-R6UeU-dP/lib/python3.8/site-packages (from requests>=2.19.0->datasets) (3.4)\n",
      "Requirement already satisfied: certifi>=2017.4.17 in /home/cschroeder/.local/share/virtualenvs/notebooks-R6UeU-dP/lib/python3.8/site-packages (from requests>=2.19.0->datasets) (2022.12.7)\n",
      "Requirement already satisfied: pytz>=2020.1 in /home/cschroeder/.local/share/virtualenvs/notebooks-R6UeU-dP/lib/python3.8/site-packages (from pandas->datasets) (2022.6)\n",
      "Requirement already satisfied: python-dateutil>=2.8.1 in /home/cschroeder/.local/share/virtualenvs/notebooks-R6UeU-dP/lib/python3.8/site-packages (from pandas->datasets) (2.8.2)\n",
      "Requirement already satisfied: six>=1.5 in /home/cschroeder/.local/share/virtualenvs/notebooks-R6UeU-dP/lib/python3.8/site-packages (from python-dateutil>=2.8.1->pandas->datasets) (1.16.0)\n",
      "Note: you may need to restart the kernel to use updated packages.\n",
      "Requirement already satisfied: matplotlib in /home/cschroeder/.local/share/virtualenvs/notebooks-R6UeU-dP/lib/python3.8/site-packages (3.4.3)\n",
      "Requirement already satisfied: numpy>=1.16 in /home/cschroeder/.local/share/virtualenvs/notebooks-R6UeU-dP/lib/python3.8/site-packages (from matplotlib) (1.24.1)\n",
      "Requirement already satisfied: cycler>=0.10 in /home/cschroeder/.local/share/virtualenvs/notebooks-R6UeU-dP/lib/python3.8/site-packages (from matplotlib) (0.11.0)\n",
      "Requirement already satisfied: kiwisolver>=1.0.1 in /home/cschroeder/.local/share/virtualenvs/notebooks-R6UeU-dP/lib/python3.8/site-packages (from matplotlib) (1.3.2)\n",
      "Requirement already satisfied: python-dateutil>=2.7 in /home/cschroeder/.local/share/virtualenvs/notebooks-R6UeU-dP/lib/python3.8/site-packages (from matplotlib) (2.8.2)\n",
      "Requirement already satisfied: pyparsing>=2.2.1 in /home/cschroeder/.local/share/virtualenvs/notebooks-R6UeU-dP/lib/python3.8/site-packages (from matplotlib) (3.0.9)\n",
      "Requirement already satisfied: pillow>=6.2.0 in /home/cschroeder/.local/share/virtualenvs/notebooks-R6UeU-dP/lib/python3.8/site-packages (from matplotlib) (9.3.0)\n",
      "Requirement already satisfied: six>=1.5 in /home/cschroeder/.local/share/virtualenvs/notebooks-R6UeU-dP/lib/python3.8/site-packages (from python-dateutil>=2.7->matplotlib) (1.16.0)\n",
      "Note: you may need to restart the kernel to use updated packages.\n"
     ]
    },
    {
     "name": "stderr",
     "output_type": "stream",
     "text": [
      "/home/cschroeder/.local/share/virtualenvs/notebooks-R6UeU-dP/lib/python3.8/site-packages/tqdm/auto.py:22: TqdmWarning: IProgress not found. Please update jupyter and ipywidgets. See https://ipywidgets.readthedocs.io/en/stable/user_install.html\n",
      "  from .autonotebook import tqdm as notebook_tqdm\n"
     ]
    }
   ],
   "source": [
    "%pip install small-text[transformers]==1.2.0\n",
    "# setfit is an optional dependency and must be installed as well\n",
    "%pip install setfit>=0.5.0\n",
    "# temp fix until the gpu memory issue is resolved: https://github.com/UKPLab/sentence-transformers/issues/1793\n",
    "#%pip install pip install \"git+https://github.com/chschroeder/sentence-transformers#egg=sentence-transformers\" --force-reinstall\n",
    "%pip install datasets\n",
    "%pip install matplotlib\n",
    "\n",
    "import logging\n",
    "\n",
    "import datasets\n",
    "import matplotlib.pyplot as plt\n",
    "\n",
    "plt.rc('figure', titlesize=22)\n",
    "plt.rc('axes', titlesize=22, labelsize=20, linewidth=1.2)\n",
    "plt.rc('xtick', labelsize=14)\n",
    "plt.rc('ytick', labelsize=14)\n",
    "plt.rc('legend', fontsize=16)\n",
    "plt.rc('lines', linewidth=2)\n",
    "\n",
    "datasets.logging.set_verbosity_error()\n",
    "\n",
    "# disables the progress bar for notebooks: https://github.com/huggingface/datasets/issues/2651\n",
    "datasets.logging.get_verbosity = lambda: logging.NOTSET\n",
    "\n",
    "for logger_name in ['setfit.modeling', 'setfit.trainer']:\n",
    "    logger = logging.getLogger(logger_name)\n",
    "    logger.setLevel(logging.ERROR)\n"
   ]
  },
  {
   "cell_type": "markdown",
   "id": "bdf5fd19",
   "metadata": {},
   "source": [
    "----\n",
    "\n",
    "<a id=\"nb4-part2-data\"></a>\n",
    "## II. Loading the Data\n",
    "\n",
    "We use the \"AG's News\" dataset for this demonstration. It consists of news articles which are categorized into four mutually exclusive classes."
   ]
  },
  {
   "cell_type": "code",
   "execution_count": 2,
   "id": "754e5b56",
   "metadata": {},
   "outputs": [
    {
     "name": "stderr",
     "output_type": "stream",
     "text": [
      "100%|█████████████████████████████████████████████████████████████████████████████████████████████████████████████████████████████████████████████████████████████████████████████████████████████████████████| 2/2 [00:00<00:00, 1093.55it/s]\n"
     ]
    },
    {
     "name": "stdout",
     "output_type": "stream",
     "text": [
      "First 10 training samples:\n",
      "\n",
      "2   Wall St. Bears Claw Back Into the Black (Reuters) Reuters - Short-sellers, Wall Street's dwindling\\band of ultra-cynics, are seeing green again.\n",
      "2   Carlyle Looks Toward Commercial Aerospace (Reuters) Reuters - Private investment firm Carlyle Group,\\which has a reputation for making well-timed and occasionally\\controversial plays in the defense industry, has quietly placed\\its bets on another part of the market.\n",
      "2   Oil and Economy Cloud Stocks' Outlook (Reuters) Reuters - Soaring crude prices plus worries\\about the economy and the outlook for earnings are expected to\\hang over the stock market next week during the depth of the\\summer doldrums.\n",
      "2   Iraq Halts Oil Exports from Main Southern Pipeline (Reuters) Reuters - Authorities have halted oil export\\flows from the main pipeline in southern Iraq after\\intelligence showed a rebel militia could strike\\infrastructure, an oil official said on Saturday.\n",
      "2   Oil prices soar to all-time record, posing new menace to US economy (AFP) AFP - Tearaway world oil prices, toppling records and straining wallets, present a new economic menace barely three months before the US presidential elections.\n",
      "2   Stocks End Up, But Near Year Lows (Reuters) Reuters - Stocks ended slightly higher on Friday\\but stayed near lows for the year as oil prices surged past  #36;46\\a barrel, offsetting a positive outlook from computer maker\\Dell Inc. (DELL.O)\n",
      "2   Money Funds Fell in Latest Week (AP) AP - Assets of the nation's retail money market mutual funds fell by  #36;1.17 billion in the latest week to  #36;849.98 trillion, the Investment Company Institute said Thursday.\n",
      "2   Fed minutes show dissent over inflation (USATODAY.com) USATODAY.com - Retail sales bounced back a bit in July, and new claims for jobless benefits fell last week, the government said Thursday, indicating the economy is improving from a midsummer slump.\n",
      "2   Safety Net (Forbes.com) Forbes.com - After earning a PH.D. in Sociology, Danny Bazil Riley started to work as the general manager at a commercial real estate firm at an annual base salary of  #36;70,000. Soon after, a financial planner stopped by his desk to drop off brochures about insurance benefits available through his employer. But, at 32, \"buying insurance was the furthest thing from my mind,\" says Riley.\n",
      "2   Wall St. Bears Claw Back Into the Black  NEW YORK (Reuters) - Short-sellers, Wall Street's dwindling  band of ultra-cynics, are seeing green again.\n"
     ]
    }
   ],
   "source": [
    "import datasets\n",
    "import logging\n",
    "import numpy as np\n",
    "\n",
    "\n",
    "# disables the progress bar for notebooks: https://github.com/huggingface/datasets/issues/2651\n",
    "datasets.logging.get_verbosity = lambda: logging.NOTSET\n",
    "\n",
    "raw_dataset = datasets.load_dataset('ag_news')\n",
    "num_classes = np.unique(raw_dataset['train']['label']).shape[0]\n",
    "\n",
    "print('First 10 training samples:\\n')\n",
    "for i in range(10):\n",
    "    print(raw_dataset['train']['label'][i], ' ', raw_dataset['train']['text'][i])"
   ]
  },
  {
   "cell_type": "code",
   "execution_count": 3,
   "id": "80d66199",
   "metadata": {},
   "outputs": [
    {
     "name": "stdout",
     "output_type": "stream",
     "text": [
      "ClassLabel(names=['World', 'Sports', 'Business', 'Sci/Tech'], id=None)\n"
     ]
    }
   ],
   "source": [
    "print(raw_dataset['train'].features['label'])"
   ]
  },
  {
   "cell_type": "markdown",
   "id": "1742f7d7",
   "metadata": {},
   "source": [
    "### Preparing the Data\n",
    "\n",
    "The SetFit Classifier uses the `TextData` structure as input. Such datasets can be easily created from raw text and labels using `TextDataset.from_arrays()`."
   ]
  },
  {
   "cell_type": "code",
   "execution_count": 4,
   "id": "be151ce8",
   "metadata": {},
   "outputs": [
    {
     "name": "stderr",
     "output_type": "stream",
     "text": [
      "/home/cschroeder/.local/share/virtualenvs/notebooks-R6UeU-dP/lib/python3.8/site-packages/small_text/utils/annotations.py:67: ExperimentalWarning: The function from_arrays is experimental and maybe subject to change soon.\n",
      "  warnings.warn(f'The {subject} {func_or_class.__name__} is experimental '\n"
     ]
    }
   ],
   "source": [
    "import numpy as np\n",
    "from small_text import TextDataset\n",
    "\n",
    "num_classes = raw_dataset['train'].features['label'].num_classes\n",
    "\n",
    "target_labels = np.arange(num_classes)\n",
    "\n",
    "train = TextDataset.from_arrays(raw_dataset['train']['text'], np.array(raw_dataset['train']['label']), target_labels=target_labels)\n",
    "test = TextDataset.from_arrays(raw_dataset['test']['text'], np.array(raw_dataset['test']['label']), target_labels=target_labels)"
   ]
  },
  {
   "cell_type": "markdown",
   "id": "3db26811",
   "metadata": {},
   "source": [
    "----\n",
    "\n",
    "<a id=\"nb4-part3-active-learning\"></a>\n",
    "## III. Active Learning\n",
    "\n",
    "First, we setup the classifier. Compared to the previous notebook examples, we use the SetFit factory and model arguments instead of the transformer-based variants."
   ]
  },
  {
   "cell_type": "code",
   "execution_count": 5,
   "id": "2184e4b7",
   "metadata": {},
   "outputs": [],
   "source": [
    "# TODO: use short imports\n",
    "from small_text.integrations.transformers.classifiers.setfit import SetFitModelArguments\n",
    "from small_text.integrations.transformers.classifiers.factories import SetFitClassificationFactory\n",
    "\n",
    "sentence_transformer_model_name = 'sentence-transformers/paraphrase-mpnet-base-v2'\n",
    "setfit_model_args = SetFitModelArguments(sentence_transformer_model_name)\n",
    "\n",
    "clf_factory = SetFitClassificationFactory(setfit_model_args, \n",
    "                                          num_classes)"
   ]
  },
  {
   "cell_type": "markdown",
   "id": "017ebf3d",
   "metadata": {},
   "source": [
    "## Setting up the Active Learner\n",
    "\n",
    "Here, we construct a `PoolBasedActiveLearner` instance which requires a classifier factory, a query strategy, and the train dataset.\n",
    "\n",
    "To obtain a first model, we initialize the active learner by providing the true labels for 20 sentences. This corresponds to an initial labeling the real-world setting."
   ]
  },
  {
   "cell_type": "code",
   "execution_count": 6,
   "id": "66774521",
   "metadata": {
    "tags": []
   },
   "outputs": [],
   "source": [
    "from small_text import (\n",
    "    PoolBasedActiveLearner, \n",
    "    BreakingTies,\n",
    "    SubsamplingQueryStrategy\n",
    ")\n",
    "\n",
    "# define a query strategy and initialize a pool-based active learner\n",
    "query_strategy = SubsamplingQueryStrategy(BreakingTies())\n",
    "\n",
    "def initialize_with_coldstart():\n",
    "    cold_start_labels = np.array([0, 1, 2, 3])\n",
    "    cold_start_dataset = TextDataset.from_arrays([\n",
    "            'This is about world news.',\n",
    "            'This is about sports.',\n",
    "            'This is about business.',\n",
    "            'This is about science and technology.'\n",
    "        ], \n",
    "        cold_start_labels,\n",
    "        target_labels=target_labels)\n",
    "\n",
    "\n",
    "    # Append the cold start data to our train dataset. This is only necessary because the logistic regression head \n",
    "    #   implicitly obtains the number of classes from the training data. If we omitted this and the first query \n",
    "    #   would not return all four labels, the modeal head would predict three classes instead of four.\n",
    "    labeled_indices = np.arange(4)\n",
    "\n",
    "    train = TextDataset.from_arrays(cold_start_dataset.x + raw_dataset['train']['text'], \n",
    "                                    np.append(cold_start_labels, np.array(raw_dataset['train']['label'])), \n",
    "                                    target_labels=target_labels)\n",
    "    \n",
    "    # suppress progress bars in jupyter notebook\n",
    "    setfit_train_kwargs = {'show_progress_bar': False}\n",
    "\n",
    "    active_learner = PoolBasedActiveLearner(clf_factory, query_strategy, train, fit_kwargs={'setfit_train_kwargs': setfit_train_kwargs})\n",
    "    active_learner._clf = clf_factory.new()\n",
    "    active_learner._clf.fit(cold_start_dataset, setfit_train_kwargs=setfit_train_kwargs)\n",
    "\n",
    "    active_learner.y = cold_start_labels\n",
    "    active_learner.indices_labeled = labeled_indices\n",
    "    active_learner._index_to_position = active_learner._build_index_to_position_dict()\n",
    "    \n",
    "    return active_learner, train\n",
    "\n",
    "\n",
    "active_learner, train = initialize_with_coldstart()"
   ]
  },
  {
   "cell_type": "markdown",
   "id": "e8888591",
   "metadata": {
    "tags": []
   },
   "source": [
    "### Active Learning\n",
    "\n",
    "The main active learning loop queries the unlabeled pool and thereby decides which documents are labeled next.\n",
    "We then provide the labels for those documents and the active learner retrains the model.\n",
    "After each query, we evaluate the current model against the test set and save the result.\n",
    "\n",
    "\n",
    "Note: This is active learning as it is done in a scientific simulation. In reality, the label feedback would have been given by human annotators."
   ]
  },
  {
   "cell_type": "markdown",
   "id": "df13d646-ebde-4ff5-8aa1-b59aa4794bac",
   "metadata": {},
   "source": [
    "#### Active Learning Loop"
   ]
  },
  {
   "cell_type": "code",
   "execution_count": 7,
   "id": "aacd866c",
   "metadata": {
    "tags": []
   },
   "outputs": [
    {
     "name": "stdout",
     "output_type": "stream",
     "text": [
      "Train accuracy: 1.00\n",
      "Test accuracy: 0.67\n",
      "---------------\n",
      "Iteration #0 (24 samples)\n",
      "Train accuracy: 1.00\n",
      "Test accuracy: 0.84\n",
      "---------------\n",
      "Iteration #1 (44 samples)\n",
      "Train accuracy: 1.00\n",
      "Test accuracy: 0.86\n",
      "---------------\n",
      "Iteration #2 (64 samples)\n",
      "Train accuracy: 1.00\n",
      "Test accuracy: 0.89\n",
      "---------------\n",
      "Iteration #3 (84 samples)\n",
      "Train accuracy: 1.00\n",
      "Test accuracy: 0.88\n",
      "---------------\n",
      "Iteration #4 (104 samples)\n",
      "Train accuracy: 1.00\n",
      "Test accuracy: 0.89\n",
      "---------------\n",
      "Iteration #5 (124 samples)\n",
      "Train accuracy: 1.00\n",
      "Test accuracy: 0.89\n",
      "---------------\n",
      "Iteration #6 (144 samples)\n",
      "Train accuracy: 1.00\n",
      "Test accuracy: 0.89\n",
      "---------------\n",
      "Iteration #7 (164 samples)\n",
      "Train accuracy: 1.00\n",
      "Test accuracy: 0.89\n",
      "---------------\n",
      "Iteration #8 (184 samples)\n",
      "Train accuracy: 1.00\n",
      "Test accuracy: 0.89\n",
      "---------------\n",
      "Iteration #9 (204 samples)\n",
      "Train accuracy: 1.00\n",
      "Test accuracy: 0.90\n"
     ]
    }
   ],
   "source": [
    "import gc\n",
    "import torch\n",
    "from sklearn.metrics import accuracy_score\n",
    "\n",
    "\n",
    "num_queries = 10\n",
    "\n",
    "\n",
    "def evaluate(active_learner, train, test):\n",
    "    \n",
    "    if len(train) == 0:\n",
    "        return np.nan\n",
    "    \n",
    "    y_pred = active_learner.classifier.predict(train)\n",
    "    y_pred_test = active_learner.classifier.predict(test)\n",
    "    \n",
    "    test_acc = accuracy_score(y_pred_test, test.y)\n",
    "\n",
    "    print('Train accuracy: {:.2f}'.format(accuracy_score(y_pred, train.y)))\n",
    "    print('Test accuracy: {:.2f}'.format(test_acc))\n",
    "    \n",
    "    return test_acc\n",
    "\n",
    "\n",
    "results_setfit = []\n",
    "results_setfit.append(evaluate(active_learner, train[active_learner.indices_labeled], test))\n",
    "   \n",
    "    \n",
    "for i in range(num_queries):\n",
    "\n",
    "    # ...where each iteration consists of labelling 20 samples\n",
    "    q_indices = active_learner.query(num_samples=20)\n",
    "\n",
    "    # Simulate user interaction here. Replace this for real-world usage.\n",
    "    y = train.y[q_indices]\n",
    "\n",
    "    # Return the labels for the current query to the active learner.\n",
    "    active_learner.update(y)\n",
    "    \n",
    "    # memory fix: https://github.com/UKPLab/sentence-transformers/issues/487, https://github.com/UKPLab/sentence-transformers/issues/1793\n",
    "    gc.collect()\n",
    "    torch.cuda.empty_cache()\n",
    "    \n",
    "    print('---------------')\n",
    "    print('Iteration #{:d} ({} samples)'.format(i, len(active_learner.indices_labeled)))\n",
    "    results_setfit.append(evaluate(active_learner, train[active_learner.indices_labeled], test))\n",
    "\n"
   ]
  },
  {
   "cell_type": "markdown",
   "id": "5eeb9a63",
   "metadata": {
    "tags": []
   },
   "source": [
    "----\n",
    "\n",
    "<a id=\"nb4-part4-evaluation\"></a>\n",
    "## IV. Plotting the Results\n",
    "\n",
    "With the previous results we can plot a [learning curve](https://en.wikipedia.org/wiki/Learning_curve_(machine_learning)) to visualize the performance."
   ]
  },
  {
   "cell_type": "code",
   "execution_count": 8,
   "id": "278c1d13",
   "metadata": {},
   "outputs": [
    {
     "data": {
      "text/plain": [
       "<module 'matplotlib.pyplot' from '/home/cschroeder/.local/share/virtualenvs/notebooks-R6UeU-dP/lib/python3.8/site-packages/matplotlib/pyplot.py'>"
      ]
     },
     "metadata": {},
     "output_type": "display_data"
    },
    {
     "data": {
      "image/png": "[encoded data removed]",
      "text/plain": [
       "<Figure size 1200x800 with 1 Axes>"
      ]
     },
     "metadata": {},
     "output_type": "display_data"
    }
   ],
   "source": [
    "%matplotlib inline\n",
    "import matplotlib.pyplot as plt\n",
    "\n",
    "fig = plt.figure(figsize=(12, 8))\n",
    "ax = plt.axes()\n",
    "\n",
    "ax.plot(np.arange(num_queries+1), results_setfit, label='SetFit')\n",
    "ax.legend()\n",
    "\n",
    "plt.ylabel('accuracy')\n",
    "plt.xlabel('num queries')\n",
    "\n",
    "display(plt)"
   ]
  }
 ],
 "metadata": {
  "kernelspec": {
   "display_name": "Python 3 (ipykernel)",
   "language": "python",
   "name": "python3"
  },
  "language_info": {
   "codemirror_mode": {
    "name": "ipython",
    "version": 3
   },
   "file_extension": ".py",
   "mimetype": "text/x-python",
   "name": "python",
   "nbconvert_exporter": "python",
   "pygments_lexer": "ipython3",
   "version": "3.8.2"
  }
 },
 "nbformat": 4,
 "nbformat_minor": 5
}
